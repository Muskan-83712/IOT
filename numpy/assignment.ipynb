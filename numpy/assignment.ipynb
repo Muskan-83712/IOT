{
 "cells": [
  {
   "cell_type": "code",
   "execution_count": 1,
   "id": "10210832-fa73-4dc6-b374-2950116cf94b",
   "metadata": {},
   "outputs": [],
   "source": [
    "import numpy as np"
   ]
  },
  {
   "cell_type": "code",
   "execution_count": 5,
   "id": "007ef7dc-b394-4fd6-af19-bfa4242900f3",
   "metadata": {},
   "outputs": [
    {
     "name": "stdout",
     "output_type": "stream",
     "text": [
      "arr = [  1   7  13 105]\n",
      "total elements in arr = 4\n",
      "memory = 32\n"
     ]
    }
   ],
   "source": [
    "#1. Write a NumPy program to create an array with the values 1, 7, 13, 105    and determine the size of the memory occupied by the array.\n",
    "arr = np.array([1,7,13,105])\n",
    "print(f\"arr = {arr}\")\n",
    "print(f\"total elements in arr = {arr.size}\")\n",
    "print(f\"memory = {arr.nbytes}\")"
   ]
  },
  {
   "cell_type": "code",
   "execution_count": 78,
   "id": "709f2a3a-48ae-415d-9223-e56e4f230679",
   "metadata": {},
   "outputs": [
    {
     "name": "stdout",
     "output_type": "stream",
     "text": [
      "[10 22 30 40 65 34 54]\n",
      "[11 22 23 44 56 34 54]\n",
      "arr1 have greater element\n"
     ]
    }
   ],
   "source": [
    "#2. Write a NumPy program to create an element-wise comparison (greater,    greater_equal, less and less_equal) of two given arrays.\n",
    "def index(i):\n",
    "    arr1 = np.array([10,22,30,40,65,34,54])\n",
    "    arr2 = np.array([11,22,23,44,56,34,54])\n",
    "    print(arr1)\n",
    "    print(arr2)\n",
    "    if arr1[i]==arr2[i]:\n",
    "        print(\"both elements are equal\")\n",
    "    elif arr1[i]>=arr2[i]:\n",
    "        print(\"arr1 have greater element\")\n",
    "    elif arr1[i]<=arr[2]:\n",
    "        print(\"arr2 have gteater element\")\n",
    "index(4)"
   ]
  },
  {
   "cell_type": "code",
   "execution_count": 13,
   "id": "a07b2b70-72e1-48bb-8073-4fcd1bd04019",
   "metadata": {},
   "outputs": [
    {
     "name": "stdout",
     "output_type": "stream",
     "text": [
      "[0. 0. 0. 0. 0. 0. 0. 0. 0. 0.]\n",
      "[1. 1. 1. 1. 1. 1. 1. 1. 1. 1.]\n",
      "[5. 5. 5. 5. 5. 5. 5. 5. 5. 5.]\n",
      "[10. 10. 10. 10. 10. 10. 10. 10. 10. 10.]\n",
      "[20. 20. 20. 20. 20. 20. 20. 20. 20. 20.]\n",
      "[50. 50. 50. 50. 50. 50. 50. 50. 50. 50.]\n"
     ]
    }
   ],
   "source": [
    "#3.  Write a NumPy program to create an array of 10 zeros, 10 ones, 10    fives, 10 tens, 10 twentys and 10 fiftys.\n",
    "arr1 = np.zeros(10)\n",
    "arr2 = np.ones(10)\n",
    "print(arr1)\n",
    "print(arr2)\n",
    "print(arr2*5)\n",
    "print(arr2*10)\n",
    "print(arr2*20)\n",
    "print(arr2*50)"
   ]
  },
  {
   "cell_type": "code",
   "execution_count": 14,
   "id": "3abd975c-4bd6-4bee-85ce-728a62004eeb",
   "metadata": {},
   "outputs": [
    {
     "name": "stdout",
     "output_type": "stream",
     "text": [
      "[0. 0. 0. 0. 0. 0. 0. 0. 0. 0.] \n",
      " [1. 1. 1. 1. 1. 1. 1. 1. 1. 1.] \n",
      " [5. 5. 5. 5. 5. 5. 5. 5. 5. 5.] \n",
      " [10. 10. 10. 10. 10. 10. 10. 10. 10. 10.] \n",
      " [15. 15. 15. 15. 15. 15. 15. 15. 15. 15.] \n",
      " [20. 20. 20. 20. 20. 20. 20. 20. 20. 20.]\n"
     ]
    }
   ],
   "source": [
    "#3.  Write a NumPy program to create an array of 10 zeros, 10 ones, 10    fives, 10 tens, 10 twentys and 10 fiftys.\n",
    "arr1 = np.zeros(10)\n",
    "arr2 = np.ones(10)\n",
    "print(arr1,'\\n',arr2,'\\n',(arr2*5),'\\n',(arr2*10),'\\n',(arr2*15),'\\n',(arr2*20))"
   ]
  },
  {
   "cell_type": "code",
   "execution_count": 18,
   "id": "923a64b5-1fbd-4020-a722-f4bdd3f39c22",
   "metadata": {},
   "outputs": [
    {
     "name": "stdout",
     "output_type": "stream",
     "text": [
      "[30 31 32 33 34 35 36 37 38 39 40 41 42 43 44 45 46 47 48 49 50 51 52 53\n",
      " 54 55 56 57 58 59 60 61 62 63 64 65 66 67 68 69 70]\n"
     ]
    }
   ],
   "source": [
    "#4. Write a NumPy program to create an array of integers from 30 to 70.\n",
    "arr = np.arange(30,71)\n",
    "print(arr)"
   ]
  },
  {
   "cell_type": "code",
   "execution_count": 19,
   "id": "a133f47b-71ce-4599-b32a-2f07caae2448",
   "metadata": {},
   "outputs": [
    {
     "name": "stdout",
     "output_type": "stream",
     "text": [
      "[50 51 52 53 54 55 56 57 58 59 60 61 62 63 64 65 66 67 68 69 70 71 72 73\n",
      " 74 75 76 77 78 79 80 81 82 83 84 85 86 87 88 89 90 91 92 93 94 95]\n"
     ]
    }
   ],
   "source": [
    "#5. Write a NumPy program to create an array of integers from 50 to 95.\n",
    "arr = np.arange(50,96)\n",
    "print(arr)"
   ]
  },
  {
   "cell_type": "code",
   "execution_count": 20,
   "id": "6ebe21fb-8e9f-496d-9fa3-4fd6b2432924",
   "metadata": {},
   "outputs": [
    {
     "name": "stdout",
     "output_type": "stream",
     "text": [
      "[20 22 24 26 28 30 32 34 36 38 40 42 44 46 48 50 52 54 56 58 60 62 64 66\n",
      " 68 70 72 74 76 78 80]\n"
     ]
    }
   ],
   "source": [
    "#6. Write a NumPy program to create an array of all even integers from 20 to 80..\n",
    "arr = np.arange(21,81,2)\n",
    "print(arr)"
   ]
  },
  {
   "cell_type": "code",
   "execution_count": 21,
   "id": "3b26821e-152c-485c-be8f-a067234d2fbf",
   "metadata": {},
   "outputs": [
    {
     "name": "stdout",
     "output_type": "stream",
     "text": [
      "[21 23 25 27 29 31 33 35 37 39 41 43 45 47 49 51 53 55 57 59 61 63 65 67\n",
      " 69 71 73 75 77 79]\n"
     ]
    }
   ],
   "source": [
    "#7. Write a NumPy program to create an array of all odd integers from 20 to 80.\n",
    "arr = np.arange(21,81,2)\n",
    "print(arr)"
   ]
  },
  {
   "cell_type": "code",
   "execution_count": 25,
   "id": "689356e3-77da-47fc-b397-4311becc8261",
   "metadata": {},
   "outputs": [
    {
     "name": "stdout",
     "output_type": "stream",
     "text": [
      "[32 34 36 31 23 31 26 23 35 33 34 38 30 30 34]\n"
     ]
    }
   ],
   "source": [
    "#8. Write a NumPy program to generate an array of 15 random numbers from 10 to 40.\n",
    "arr = np.random.randint(10,40,15)\n",
    "print(arr)\n"
   ]
  },
  {
   "cell_type": "code",
   "execution_count": 26,
   "id": "a7ac06e8-230c-405a-9c50-dc918f5163da",
   "metadata": {},
   "outputs": [
    {
     "name": "stdout",
     "output_type": "stream",
     "text": [
      "[49 45 38 37 40 40 42 45 49 35]\n"
     ]
    }
   ],
   "source": [
    "#9. Write a NumPy program to generate an array of 10 random numbers from 30    to 50.\n",
    "arr = np.random.randint(30,50,10)\n",
    "print(arr)"
   ]
  },
  {
   "cell_type": "code",
   "execution_count": 27,
   "id": "00f17f96-be9c-4cef-a8f7-92e7246b2b98",
   "metadata": {},
   "outputs": [
    {
     "name": "stdout",
     "output_type": "stream",
     "text": [
      "[77 72 81 66 66 85 82 76 84 50 64 66 52 85 50 62 71 75 73 81]\n"
     ]
    }
   ],
   "source": [
    "#10. Write a NumPy program to generate an array of 20 random numbers from 50    to 90.\n",
    "arr = np.random.randint(50,90,20)\n",
    "print(arr)"
   ]
  },
  {
   "cell_type": "code",
   "execution_count": 28,
   "id": "ff9cbeea-8ad1-48f4-958f-f2310e521ec5",
   "metadata": {},
   "outputs": [
    {
     "name": "stdout",
     "output_type": "stream",
     "text": [
      "[ 5  7  9 11 13 15  8 10 12]\n",
      "[-3 -3 -3 -3 -3 -3  6  6  6]\n",
      "[ 4 10 18 28 40 54  7 16 27]\n",
      "[0.25       0.4        0.5        0.57142857 0.625      0.66666667\n",
      " 7.         4.         3.        ]\n"
     ]
    }
   ],
   "source": [
    "#11. Create any two arrays & perform various mathematical operations.\n",
    "    #i.e. Addition, Substraction, Multiplication, Divide.\n",
    "\n",
    "arr1 = np.array([1,2,3,4,5,6,7,8,9])\n",
    "arr2 = np.array([4,5,6,7,8,9,1,2,3])\n",
    "print(arr1+arr2)\n",
    "print(arr1-arr2)\n",
    "print(arr1*arr2)\n",
    "print(arr1/arr2)"
   ]
  },
  {
   "cell_type": "code",
   "execution_count": 30,
   "id": "07fae03b-4b0d-4e67-bdf6-8e558eff5544",
   "metadata": {},
   "outputs": [
    {
     "name": "stdout",
     "output_type": "stream",
     "text": [
      "[[10 11 12 13]\n",
      " [14 15 16 17]\n",
      " [18 19 20 21]]\n"
     ]
    }
   ],
   "source": [
    "#12. Write a NumPy program to create a 3x4 matrix filled with values from 10     to 21.\n",
    "arr = np.arange(10,22).reshape(3,4)\n",
    "print(arr)"
   ]
  },
  {
   "cell_type": "code",
   "execution_count": 39,
   "id": "f2247e9b-5b31-4c69-a854-cfd5fb7f21e7",
   "metadata": {},
   "outputs": [
    {
     "name": "stdout",
     "output_type": "stream",
     "text": [
      "[[1 0 0]\n",
      " [0 1 0]\n",
      " [0 0 1]]\n"
     ]
    }
   ],
   "source": [
    "#13. Write a NumPy program to create a 3x3 identity matrix, i.e. the diagonal     elements are 1, the rest are 0.\n",
    "arr = np.array([1,0,0, 0, 1, 0, 0, 0, 1])\n",
    "arr1 = arr.reshape(3,3)\n",
    "print(arr1)"
   ]
  },
  {
   "cell_type": "code",
   "execution_count": 40,
   "id": "b299b0ea-0764-4751-a707-feedc8fb730c",
   "metadata": {},
   "outputs": [
    {
     "name": "stdout",
     "output_type": "stream",
     "text": [
      "[[1. 0. 0.]\n",
      " [0. 1. 0.]\n",
      " [0. 0. 1.]]\n"
     ]
    }
   ],
   "source": [
    "#14. Write a NumPy program to find the number of rows and columns in a given     matrix.\n",
    "arr = np.eye(3)\n",
    "print(arr)"
   ]
  },
  {
   "cell_type": "code",
   "execution_count": 44,
   "id": "d7ded54d-c832-4a21-a74b-79e41782bcc5",
   "metadata": {},
   "outputs": [
    {
     "name": "stdout",
     "output_type": "stream",
     "text": [
      "[[1 0 0 0 0]\n",
      " [0 2 0 0 0]\n",
      " [0 0 3 0 0]\n",
      " [0 0 0 4 0]\n",
      " [0 0 0 0 5]]\n"
     ]
    }
   ],
   "source": [
    "#15. Write a NumPy program to create a 5x5 zero matrix with elements on the     main diagonal equal to 1, 2, 3, 4, 5.\n",
    "arr = np.diag([1,2,3,4,5])\n",
    "print(arr)"
   ]
  },
  {
   "cell_type": "code",
   "execution_count": 50,
   "id": "ccff1ede-345d-4761-a9e5-28bd980d4197",
   "metadata": {},
   "outputs": [
    {
     "name": "stdout",
     "output_type": "stream",
     "text": [
      "[[[0.43100978 0.49446593 0.66127739]\n",
      "  [0.98528388 0.96905137 0.33508747]\n",
      "  [0.47327801 0.35494928 0.9241332 ]]\n",
      "\n",
      " [[0.41629332 0.52077726 0.1460091 ]\n",
      "  [0.42961968 0.40743587 0.15683815]\n",
      "  [0.1092566  0.1650378  0.86558244]]\n",
      "\n",
      " [[0.38241207 0.65081895 0.28236905]\n",
      "  [0.21627239 0.73362339 0.34397689]\n",
      "  [0.25369265 0.68396453 0.79461102]]]\n"
     ]
    }
   ],
   "source": [
    "#16. Write a NumPy program to create a 3x3x3 array filled with arbitrary     values.\n",
    "arr = np.random.random((3,3,3))\n",
    "print(arr)"
   ]
  },
  {
   "cell_type": "code",
   "execution_count": 51,
   "id": "4671eb4e-2849-4b2a-aee1-23902a9fc1ef",
   "metadata": {},
   "outputs": [
    {
     "name": "stdout",
     "output_type": "stream",
     "text": [
      "[[[0.19447206 0.58612206 0.05535319 0.42179278]\n",
      "  [0.19747422 0.19510603 0.07387147 0.87022701]\n",
      "  [0.65158487 0.68532073 0.57576026 0.81810223]]\n",
      "\n",
      " [[0.02716886 0.91683075 0.48083926 0.34378009]\n",
      "  [0.77396079 0.40964466 0.06601741 0.5022    ]\n",
      "  [0.95395383 0.17481224 0.22638681 0.29853302]]]\n"
     ]
    }
   ],
   "source": [
    "#17. Write a NumPy program to create a 2x3x4 array filled with arbitrary values.\n",
    "arr = np.random.random((2,3,4))\n",
    "print(arr)"
   ]
  },
  {
   "cell_type": "code",
   "execution_count": 53,
   "id": "54072d5f-1e9f-4525-a159-44c5cf98af38",
   "metadata": {},
   "outputs": [
    {
     "name": "stdout",
     "output_type": "stream",
     "text": [
      "[10 20 30 40 50 60 70 80 90]\n",
      "<class 'numpy.ndarray'>\n"
     ]
    }
   ],
   "source": [
    "#18. Write a NumPy program to convert a list of numeric values into a one-    dimensional NumPy array.\n",
    "arr = np.array([10,20,30,40,50,60,70,80,90])\n",
    "print(arr)\n",
    "print(type(arr))"
   ]
  },
  {
   "cell_type": "code",
   "execution_count": 55,
   "id": "8dd19d67-ef18-483e-b670-abd7d06b55b2",
   "metadata": {},
   "outputs": [
    {
     "name": "stdout",
     "output_type": "stream",
     "text": [
      "[[ 2  3  4]\n",
      " [ 5  6  7]\n",
      " [ 8  9 10]]\n"
     ]
    }
   ],
   "source": [
    "#19. Write a NumPy program to create a 3x3 matrix with values ranging from 2to 10.\n",
    "arr = np.arange(2,11).reshape(3,3)\n",
    "print(arr)"
   ]
  },
  {
   "cell_type": "code",
   "execution_count": 56,
   "id": "ea640989-d074-4d56-82d6-c5609a311c85",
   "metadata": {},
   "outputs": [
    {
     "name": "stdout",
     "output_type": "stream",
     "text": [
      "[12 13 14 15 16 17 18 19 20 21 22 23 24 25 26 27 28 29 30 31 32 33 34 35\n",
      " 36 37]\n"
     ]
    }
   ],
   "source": [
    "#20. Write a NumPy program to create an array with values ranging from 12 to 38.\n",
    "arr = np.arange(12,38)\n",
    "print(arr)"
   ]
  },
  {
   "cell_type": "code",
   "execution_count": 64,
   "id": "967af3a4-2a9b-43d5-9d09-efd33f54b901",
   "metadata": {},
   "outputs": [
    {
     "name": "stdout",
     "output_type": "stream",
     "text": [
      "[50 40 30 20 10]\n"
     ]
    }
   ],
   "source": [
    "#21. Write a NumPy program to reverse an array (the first element becomes the last)\n",
    "arr = np.array([10,20,30,40,50])\n",
    "print(arr[::-1])"
   ]
  },
  {
   "cell_type": "code",
   "execution_count": 68,
   "id": "f158b6ab-d1ff-46a8-af22-e023ec5260fa",
   "metadata": {},
   "outputs": [
    {
     "name": "stdout",
     "output_type": "stream",
     "text": [
      "[11. 22. 33. 44.]\n",
      "the data type is float16\n"
     ]
    }
   ],
   "source": [
    "#22. Write a NumPy program to convert an data type into to a floating type.\n",
    "arr = np.array([11,22,33,44],dtype=np.float16)\n",
    "print(arr)\n",
    "print(f\"the data type is {arr.dtype}\")"
   ]
  },
  {
   "cell_type": "code",
   "execution_count": 70,
   "id": "6354fa07-cb0f-4ad9-90cd-a6da6a6967fd",
   "metadata": {},
   "outputs": [
    {
     "name": "stdout",
     "output_type": "stream",
     "text": [
      "the list is [1, 2, 3, 4, 5, 6, 7, 8, 9]\n",
      "list converted to array is [1 2 3 4 5 6 7 8 9]\n"
     ]
    }
   ],
   "source": [
    "#23. Write a NumPy program to convert a list array.\n",
    "l1 = [1,2,3,4,5,6,7,8,9]\n",
    "print(f\"the list is {l1}\")\n",
    "arr = np.array(l1)\n",
    "print(f\"list converted to array is {arr}\")\n"
   ]
  },
  {
   "cell_type": "code",
   "execution_count": 77,
   "id": "dde05ca1-327a-4aca-9202-aa25f99e0d21",
   "metadata": {},
   "outputs": [
    {
     "name": "stdout",
     "output_type": "stream",
     "text": [
      "[0 0 2 3 2 0]\n"
     ]
    }
   ],
   "source": [
    "#24. Write a NumPy program to get the element-wise remainder of an array of division.\n",
    "arr1 = np.array([10,20,30,45,65,32])\n",
    "arr2 = np.array([2,5,4,6,3,8])\n",
    "print(arr1%arr2)"
   ]
  },
  {
   "cell_type": "code",
   "execution_count": 76,
   "id": "08972e6d-bb00-49fd-97be-9ed56dd74770",
   "metadata": {},
   "outputs": [
    {
     "name": "stdout",
     "output_type": "stream",
     "text": [
      "[20 21 22 23 24 25 26 27 28 29 30 31 32 33 34 35 36 37 38 39 40 41 42 43\n",
      " 44 45 46 47 48 49]\n",
      "[2 0 1 2 0 1 2 0 1 2 0 1 2 0 1 2 0 1 2 0 1 2 0 1 2 0 1 2 0 1]\n"
     ]
    }
   ],
   "source": [
    "#\n",
    "#25. Write a NumPy program to get the element-wise remainder of an array of numbers from 20 to 50 which are divisible by 3.\n",
    "arr = np.arange(20,50)\n",
    "print(arr)\n",
    "arr1 = (arr%3)\n",
    "print(arr1)"
   ]
  },
  {
   "cell_type": "code",
   "execution_count": null,
   "id": "9100ae2a-cc52-4791-8fd7-31f6fa3553ac",
   "metadata": {},
   "outputs": [],
   "source": []
  }
 ],
 "metadata": {
  "kernelspec": {
   "display_name": "Python 3 (ipykernel)",
   "language": "python",
   "name": "python3"
  },
  "language_info": {
   "codemirror_mode": {
    "name": "ipython",
    "version": 3
   },
   "file_extension": ".py",
   "mimetype": "text/x-python",
   "name": "python",
   "nbconvert_exporter": "python",
   "pygments_lexer": "ipython3",
   "version": "3.10.12"
  }
 },
 "nbformat": 4,
 "nbformat_minor": 5
}
