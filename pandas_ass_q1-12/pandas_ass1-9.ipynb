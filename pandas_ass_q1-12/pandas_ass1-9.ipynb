{
 "cells": [
  {
   "cell_type": "code",
   "execution_count": 1,
   "id": "c174c529-8fab-47a0-b2d8-4da4707ae67e",
   "metadata": {},
   "outputs": [],
   "source": [
    "import pandas as pd\n",
    "import numpy as np"
   ]
  },
  {
   "cell_type": "code",
   "execution_count": 13,
   "id": "b1d98f3a-138e-4571-a0dc-7c34af4f35d4",
   "metadata": {},
   "outputs": [
    {
     "name": "stdout",
     "output_type": "stream",
     "text": [
      "0    1\n",
      "1    2\n",
      "2    3\n",
      "3    4\n",
      "dtype: int64\n"
     ]
    }
   ],
   "source": [
    "#1\n",
    "arr1 = np.array([1,2,3,4])\n",
    "data = pd.Series(arr1)\n",
    "print(data)"
   ]
  },
  {
   "cell_type": "code",
   "execution_count": 2,
   "id": "fcbbb9bd-6a90-4a6d-996e-8677389facd9",
   "metadata": {},
   "outputs": [
    {
     "name": "stdout",
     "output_type": "stream",
     "text": [
      "[0    90\n",
      "1    80\n",
      "2    70\n",
      "3    60\n",
      "4    50\n",
      "dtype: int64]\n",
      "<class 'list'>\n"
     ]
    }
   ],
   "source": [
    "#2. Write a Pandas program to convert a Panda module Series to Python list and it’s type.\n",
    "s_series  = pd.Series([90,80,70,60,50])\n",
    "l1 = [s_series] \n",
    "print(l1)\n",
    "print(type(l1))"
   ]
  },
  {
   "cell_type": "code",
   "execution_count": 3,
   "id": "42989c88-4076-4aa0-92ac-d9d6292ff62a",
   "metadata": {},
   "outputs": [
    {
     "name": "stdout",
     "output_type": "stream",
     "text": [
      "Addition of two series is : 0     3\n",
      "1     7\n",
      "2    11\n",
      "3    15\n",
      "4    19\n",
      "dtype: int64\n"
     ]
    }
   ],
   "source": [
    "#3. Write a Pandas program to add, subtract, multiple and divide two Pandas Series.\n",
    "   #Sample Series: [2, 4, 6, 8, 10], [1, 3, 5, 7, 9]\n",
    "def add():\n",
    "    s1 = pd.Series([2,4,6,8,10])\n",
    "    s2 = pd.Series([1,3,5,7,9])\n",
    "    add = s1+s2\n",
    "    print(f\"Addition of two series is : {add}\")\n",
    "add()"
   ]
  },
  {
   "cell_type": "code",
   "execution_count": 4,
   "id": "412d286f-a257-4c5d-911a-88d8f8d854f4",
   "metadata": {},
   "outputs": [
    {
     "name": "stdout",
     "output_type": "stream",
     "text": [
      "Substraction of two series is : 0    1\n",
      "1    1\n",
      "2    1\n",
      "3    1\n",
      "4    1\n",
      "dtype: int64\n"
     ]
    }
   ],
   "source": [
    "#3. Write a Pandas program to add, subtract, multiple and divide two Pandas Series.\n",
    "   #Sample Series: [2, 4, 6, 8, 10], [1, 3, 5, 7, 9]\n",
    "def sub():\n",
    "    s1 = pd.Series([2,4,6,8,10])\n",
    "    s2 = pd.Series([1,3,5,7,9])\n",
    "    sub = s1-s2\n",
    "    print(f\"Substraction of two series is : {sub}\")\n",
    "sub()"
   ]
  },
  {
   "cell_type": "code",
   "execution_count": 5,
   "id": "d6909f94-577c-467a-bcb9-9a7dd7b8cbe0",
   "metadata": {},
   "outputs": [
    {
     "name": "stdout",
     "output_type": "stream",
     "text": [
      "Multiplication of two series is : 0     2\n",
      "1    12\n",
      "2    30\n",
      "3    56\n",
      "4    90\n",
      "dtype: int64\n"
     ]
    }
   ],
   "source": [
    "#3. Write a Pandas program to add, subtract, multiple and divide two Pandas Series.\n",
    "   #Sample Series: [2, 4, 6, 8, 10], [1, 3, 5, 7, 9]\n",
    "def mul():\n",
    "    s1 = pd.Series([2,4,6,8,10])\n",
    "    s2 = pd.Series([1,3,5,7,9])\n",
    "    mul = s1*s2\n",
    "    print(f\"Multiplication of two series is : {mul}\")\n",
    "mul()"
   ]
  },
  {
   "cell_type": "code",
   "execution_count": 6,
   "id": "ff1b0c5e-9d15-4cae-9211-6b2f0c083660",
   "metadata": {},
   "outputs": [
    {
     "name": "stdout",
     "output_type": "stream",
     "text": [
      "Multiplication of two series is : 0    2.000000\n",
      "1    1.333333\n",
      "2    1.200000\n",
      "3    1.142857\n",
      "4    1.111111\n",
      "dtype: float64\n"
     ]
    }
   ],
   "source": [
    "def div():\n",
    "    s1 = pd.Series([2,4,6,8,10])\n",
    "    s2 = pd.Series([1,3,5,7,9])\n",
    "    div = s1/s2\n",
    "    print(f\"Multiplication of two series is : {div}\")\n",
    "div()"
   ]
  },
  {
   "cell_type": "code",
   "execution_count": 7,
   "id": "eb8dcf4d-d4bc-402d-a74a-c701abad93f0",
   "metadata": {},
   "outputs": [
    {
     "name": "stdout",
     "output_type": "stream",
     "text": [
      "name       muskan\n",
      "course       pune\n",
      "roll no     83712\n",
      "dtype: object\n"
     ]
    }
   ],
   "source": [
    "#4. Write a Pandas program to convert a dictionary to a Pandas series.\n",
    "def function():\n",
    "    s1 = pd.Series({\"name\":\"muskan\",\"course\":\"pune\",\"roll no\":\"83712\"})\n",
    "    print(s1)\n",
    "function()"
   ]
  },
  {
   "cell_type": "code",
   "execution_count": 8,
   "id": "c60cc8d9-5034-4dac-b5dc-700f007ddc43",
   "metadata": {},
   "outputs": [
    {
     "name": "stdout",
     "output_type": "stream",
     "text": [
      "0    11\n",
      "1    22\n",
      "2    33\n",
      "3    44\n",
      "4    55\n",
      "dtype: int64\n"
     ]
    }
   ],
   "source": [
    "#5. Write a Pandas program to convert a NumPy array to a Pandas series.\n",
    "def function():\n",
    "    n1 = np.array([11,22,33,44,55])\n",
    "    s1 = pd.Series(n1)\n",
    "    print(s1)\n",
    "function()"
   ]
  },
  {
   "cell_type": "code",
   "execution_count": 9,
   "id": "32e07823-f994-4c90-a3e5-aa243e41c0a7",
   "metadata": {},
   "outputs": [
    {
     "name": "stdout",
     "output_type": "stream",
     "text": [
      "float64\n"
     ]
    }
   ],
   "source": [
    "#6. Write a Pandas program to change the data type of given a column or a Series.\n",
    "def function():\n",
    "    s1 = pd.Series([11,22,33,44])\n",
    "    n1 = np.array(s1,dtype = np.float64)\n",
    "    print(n1.dtype)\n",
    "function()   "
   ]
  },
  {
   "cell_type": "code",
   "execution_count": 10,
   "id": "df7004a2-0d25-4b2c-8518-8055fdc56b36",
   "metadata": {},
   "outputs": [
    {
     "name": "stdout",
     "output_type": "stream",
     "text": [
      "[11 22 33 44]\n",
      "<class 'numpy.ndarray'>\n"
     ]
    }
   ],
   "source": [
    "#7. Write a Pandas program to convert a given Series to an array.\n",
    "def function():\n",
    "    s1 = pd.Series([11,22,33,44])\n",
    "    n1 = np.array(s1)\n",
    "    print(n1)\n",
    "    print(type(n1))\n",
    "function()   "
   ]
  },
  {
   "cell_type": "code",
   "execution_count": 11,
   "id": "40a853c7-57b6-473a-95f9-73144fdcac27",
   "metadata": {},
   "outputs": [
    {
     "name": "stdout",
     "output_type": "stream",
     "text": [
      "  name  age    id\n",
      "0   P1   25  1234\n",
      "1   P2   35   456\n",
      "2   P3   20   142\n"
     ]
    }
   ],
   "source": [
    "#8. Write a Pandas program to create a dataframe from a dictionary and display it.\n",
    "def function():\n",
    "    p1 = ({\"name\":\"P1\",\"age\":25,\"id\":1234})\n",
    "    p2 = ({\"name\":\"P2\",\"age\":35,\"id\":456})\n",
    "    p3 = ({\"name\":\"P3\",\"age\":20,\"id\":142})\n",
    "    \n",
    "    s1 = pd.Series(p1)\n",
    "    s2 = pd.Series(p2)\n",
    "    s3 = pd.Series(p3)\n",
    "    \n",
    "    df = pd.DataFrame([s1,s2,s3])\n",
    "    \n",
    "    print(df)\n",
    "function()"
   ]
  }
 ],
 "metadata": {
  "kernelspec": {
   "display_name": "Python 3 (ipykernel)",
   "language": "python",
   "name": "python3"
  },
  "language_info": {
   "codemirror_mode": {
    "name": "ipython",
    "version": 3
   },
   "file_extension": ".py",
   "mimetype": "text/x-python",
   "name": "python",
   "nbconvert_exporter": "python",
   "pygments_lexer": "ipython3",
   "version": "3.10.12"
  }
 },
 "nbformat": 4,
 "nbformat_minor": 5
}
